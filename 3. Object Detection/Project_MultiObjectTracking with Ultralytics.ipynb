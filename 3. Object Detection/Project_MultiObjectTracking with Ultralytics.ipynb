{
  "cells": [
    {
      "cell_type": "code",
      "execution_count": 1,
      "metadata": {
        "id": "GXsGJBO6EWvi"
      },
      "outputs": [
        {
          "data": {
            "text/plain": [
              "'Note: The Multi-Threaded Tracking provides the capacity to run Object Tracking on Multiple Video Streams.'"
            ]
          },
          "execution_count": 1,
          "metadata": {},
          "output_type": "execute_result"
        }
      ],
      "source": [
        "# Multi-Threaded Tracking\n",
        "\"\"\"Note: The Multi-Threaded Tracking provides the capacity to run Object Tracking on Multiple Video Streams.\"\"\"\n"
      ]
    },
    {
      "cell_type": "markdown",
      "metadata": {},
      "source": [
        " 0. Environment Preparation"
      ]
    },
    {
      "cell_type": "code",
      "execution_count": 2,
      "metadata": {
        "colab": {
          "base_uri": "https://localhost:8080/"
        },
        "id": "D8-usXD5FoWX",
        "outputId": "0b1c9e59-7d5b-4ae5-8625-bd44e362c4b4"
      },
      "outputs": [],
      "source": [
        "# 0.1. Download requested packages\n",
        "!pip install ultralytics lap -q"
      ]
    },
    {
      "cell_type": "code",
      "execution_count": 3,
      "metadata": {
        "colab": {
          "base_uri": "https://localhost:8080/"
        },
        "id": "9rLh8zySFyLm",
        "outputId": "9cce8280-32b1-4819-b72c-34cf1ee14626"
      },
      "outputs": [],
      "source": [
        "# 0.2. Load requested libraries\n",
        "import threading\n",
        "import cv2\n",
        "import os\n",
        "\n",
        "from ultralytics import YOLO"
      ]
    },
    {
      "cell_type": "code",
      "execution_count": 5,
      "metadata": {
        "id": "knWrOksAF8wV"
      },
      "outputs": [],
      "source": [
        "# 0.3. Load video\n",
        "path_VideoFolder = \"./Data Video\"\n",
        "\n",
        "path_BicycleVideo = os.path.join(path_VideoFolder, \"bicycle video.mov\")\n",
        "path_PeopleWalking = os.path.join(path_VideoFolder, \"people walking video.mov\")"
      ]
    },
    {
      "cell_type": "markdown",
      "metadata": {},
      "source": [
        "1. Mutli-Threaded Tracking"
      ]
    },
    {
      "cell_type": "code",
      "execution_count": null,
      "metadata": {
        "id": "oViIZomrHBeR"
      },
      "outputs": [
        {
          "ename": "",
          "evalue": "",
          "output_type": "error",
          "traceback": [
            "\u001b[1;31mThe Kernel crashed while executing code in the current cell or a previous cell. \n",
            "\u001b[1;31mPlease review the code in the cell(s) to identify a possible cause of the failure. \n",
            "\u001b[1;31mClick <a href='https://aka.ms/vscodeJupyterKernelCrash'>here</a> for more info. \n",
            "\u001b[1;31mView Jupyter <a href='command:jupyter.viewOutput'>log</a> for further details."
          ]
        }
      ],
      "source": [
        "\n",
        "# **Define Model Names and Video Source\n",
        "MODEL_NAMES = [\"yolo11n.pt\", \"yolo11n-seg.pt\"]\n",
        "\n",
        "SOURCES = [path_BicycleVideo, path_PeopleWalking]"
      ]
    },
    {
      "cell_type": "code",
      "execution_count": null,
      "metadata": {
        "colab": {
          "base_uri": "https://localhost:8080/"
        },
        "id": "g61feeGPHads",
        "outputId": "f5b1bee1-95d3-441f-a311-b6bf52b94eb0"
      },
      "outputs": [
        {
          "name": "stdout",
          "output_type": "stream",
          "text": [
            "Downloading https://github.com/ultralytics/assets/releases/download/v8.3.0/yolo11n.pt to 'yolo11n.pt'...\n",
            "Downloading https://github.com/ultralytics/assets/releases/download/v8.3.0/yolo11n-seg.pt to 'yolo11n-seg.pt'...\n"
          ]
        },
        {
          "name": "stderr",
          "output_type": "stream",
          "text": [
            "100%|██████████| 5.90M/5.90M [00:00<00:00, 11.3MB/s]\n",
            "100%|██████████| 5.35M/5.35M [00:01<00:00, 5.22MB/s]\n"
          ]
        },
        {
          "name": "stdout",
          "output_type": "stream",
          "text": [
            "\n",
            "\n",
            "video 1/1 (frame 1/269) c:\\Users\\Visiteur\\Desktop\\GitHub Projects\\Computer-Vision\\Object Detection\\Data Video\\people walking video.mov: 384x640 8 persons, 258.8ms\n",
            "video 1/1 (frame 1/253) c:\\Users\\Visiteur\\Desktop\\GitHub Projects\\Computer-Vision\\Object Detection\\Data Video\\bicycle video.mov: 384x640 5 persons, 2 bicycles, 1 motorcycle, 140.8ms\n",
            "video 1/1 (frame 2/269) c:\\Users\\Visiteur\\Desktop\\GitHub Projects\\Computer-Vision\\Object Detection\\Data Video\\people walking video.mov: 384x640 3 persons, 117.1ms\n",
            "video 1/1 (frame 3/269) c:\\Users\\Visiteur\\Desktop\\GitHub Projects\\Computer-Vision\\Object Detection\\Data Video\\people walking video.mov: 384x640 6 persons, 109.0ms\n",
            "video 1/1 (frame 2/253) c:\\Users\\Visiteur\\Desktop\\GitHub Projects\\Computer-Vision\\Object Detection\\Data Video\\bicycle video.mov: 384x640 3 persons, 2 bicycles, 110.6ms\n",
            "video 1/1 (frame 4/269) c:\\Users\\Visiteur\\Desktop\\GitHub Projects\\Computer-Vision\\Object Detection\\Data Video\\people walking video.mov: 384x640 4 persons, 92.3ms\n",
            "video 1/1 (frame 5/269) c:\\Users\\Visiteur\\Desktop\\GitHub Projects\\Computer-Vision\\Object Detection\\Data Video\\people walking video.mov: 384x640 4 persons, 98.9ms\n",
            "video 1/1 (frame 3/253) c:\\Users\\Visiteur\\Desktop\\GitHub Projects\\Computer-Vision\\Object Detection\\Data Video\\bicycle video.mov: 384x640 3 persons, 2 bicycles, 93.0ms\n",
            "video 1/1 (frame 6/269) c:\\Users\\Visiteur\\Desktop\\GitHub Projects\\Computer-Vision\\Object Detection\\Data Video\\people walking video.mov: 384x640 4 persons, 143.7ms\n",
            "video 1/1 (frame 4/253) c:\\Users\\Visiteur\\Desktop\\GitHub Projects\\Computer-Vision\\Object Detection\\Data Video\\bicycle video.mov: 384x640 3 persons, 3 bicycles, 131.4ms\n",
            "video 1/1 (frame 7/269) c:\\Users\\Visiteur\\Desktop\\GitHub Projects\\Computer-Vision\\Object Detection\\Data Video\\people walking video.mov: 384x640 6 persons, 111.9ms\n",
            "video 1/1 (frame 8/269) c:\\Users\\Visiteur\\Desktop\\GitHub Projects\\Computer-Vision\\Object Detection\\Data Video\\people walking video.mov: 384x640 8 persons, 119.2ms\n",
            "video 1/1 (frame 5/253) c:\\Users\\Visiteur\\Desktop\\GitHub Projects\\Computer-Vision\\Object Detection\\Data Video\\bicycle video.mov: 384x640 3 persons, 3 bicycles, 117.3ms\n",
            "video 1/1 (frame 9/269) c:\\Users\\Visiteur\\Desktop\\GitHub Projects\\Computer-Vision\\Object Detection\\Data Video\\people walking video.mov: 384x640 9 persons, 94.0ms\n",
            "video 1/1 (frame 10/269) c:\\Users\\Visiteur\\Desktop\\GitHub Projects\\Computer-Vision\\Object Detection\\Data Video\\people walking video.mov: 384x640 10 persons, 101.4ms\n",
            "video 1/1 (frame 6/253) c:\\Users\\Visiteur\\Desktop\\GitHub Projects\\Computer-Vision\\Object Detection\\Data Video\\bicycle video.mov: 384x640 3 persons, 3 bicycles, 98.8ms\n",
            "video 1/1 (frame 11/269) c:\\Users\\Visiteur\\Desktop\\GitHub Projects\\Computer-Vision\\Object Detection\\Data Video\\people walking video.mov: 384x640 9 persons, 89.4ms\n",
            "video 1/1 (frame 12/269) c:\\Users\\Visiteur\\Desktop\\GitHub Projects\\Computer-Vision\\Object Detection\\Data Video\\people walking video.mov: 384x640 8 persons, 101.8ms\n",
            "video 1/1 (frame 7/253) c:\\Users\\Visiteur\\Desktop\\GitHub Projects\\Computer-Vision\\Object Detection\\Data Video\\bicycle video.mov: 384x640 3 persons, 3 bicycles, 84.8ms\n",
            "video 1/1 (frame 13/269) c:\\Users\\Visiteur\\Desktop\\GitHub Projects\\Computer-Vision\\Object Detection\\Data Video\\people walking video.mov: 384x640 8 persons, 83.3ms\n",
            "video 1/1 (frame 14/269) c:\\Users\\Visiteur\\Desktop\\GitHub Projects\\Computer-Vision\\Object Detection\\Data Video\\people walking video.mov: 384x640 9 persons, 165.0ms\n",
            "video 1/1 (frame 8/253) c:\\Users\\Visiteur\\Desktop\\GitHub Projects\\Computer-Vision\\Object Detection\\Data Video\\bicycle video.mov: 384x640 3 persons, 3 bicycles, 117.7ms\n",
            "video 1/1 (frame 15/269) c:\\Users\\Visiteur\\Desktop\\GitHub Projects\\Computer-Vision\\Object Detection\\Data Video\\people walking video.mov: 384x640 11 persons, 111.6ms\n",
            "video 1/1 (frame 9/253) c:\\Users\\Visiteur\\Desktop\\GitHub Projects\\Computer-Vision\\Object Detection\\Data Video\\bicycle video.mov: 384x640 3 persons, 3 bicycles, 129.4ms\n",
            "video 1/1 (frame 16/269) c:\\Users\\Visiteur\\Desktop\\GitHub Projects\\Computer-Vision\\Object Detection\\Data Video\\people walking video.mov: 384x640 9 persons, 134.2ms\n",
            "video 1/1 (frame 17/269) c:\\Users\\Visiteur\\Desktop\\GitHub Projects\\Computer-Vision\\Object Detection\\Data Video\\people walking video.mov: 384x640 9 persons, 150.6ms\n",
            "video 1/1 (frame 10/253) c:\\Users\\Visiteur\\Desktop\\GitHub Projects\\Computer-Vision\\Object Detection\\Data Video\\bicycle video.mov: 384x640 3 persons, 3 bicycles, 140.3ms\n",
            "video 1/1 (frame 18/269) c:\\Users\\Visiteur\\Desktop\\GitHub Projects\\Computer-Vision\\Object Detection\\Data Video\\people walking video.mov: 384x640 8 persons, 197.0ms\n",
            "video 1/1 (frame 19/269) c:\\Users\\Visiteur\\Desktop\\GitHub Projects\\Computer-Vision\\Object Detection\\Data Video\\people walking video.mov: 384x640 5 persons, 104.6ms\n",
            "video 1/1 (frame 11/253) c:\\Users\\Visiteur\\Desktop\\GitHub Projects\\Computer-Vision\\Object Detection\\Data Video\\bicycle video.mov: 384x640 3 persons, 3 bicycles, 115.9ms\n",
            "video 1/1 (frame 20/269) c:\\Users\\Visiteur\\Desktop\\GitHub Projects\\Computer-Vision\\Object Detection\\Data Video\\people walking video.mov: 384x640 9 persons, 188.1ms\n",
            "video 1/1 (frame 12/253) c:\\Users\\Visiteur\\Desktop\\GitHub Projects\\Computer-Vision\\Object Detection\\Data Video\\bicycle video.mov: 384x640 3 persons, 3 bicycles, 149.4ms\n",
            "video 1/1 (frame 21/269) c:\\Users\\Visiteur\\Desktop\\GitHub Projects\\Computer-Vision\\Object Detection\\Data Video\\people walking video.mov: 384x640 11 persons, 124.4ms\n",
            "video 1/1 (frame 22/269) c:\\Users\\Visiteur\\Desktop\\GitHub Projects\\Computer-Vision\\Object Detection\\Data Video\\people walking video.mov: 384x640 10 persons, 156.9ms\n",
            "video 1/1 (frame 13/253) c:\\Users\\Visiteur\\Desktop\\GitHub Projects\\Computer-Vision\\Object Detection\\Data Video\\bicycle video.mov: 384x640 4 persons, 3 bicycles, 156.7ms\n",
            "video 1/1 (frame 23/269) c:\\Users\\Visiteur\\Desktop\\GitHub Projects\\Computer-Vision\\Object Detection\\Data Video\\people walking video.mov: 384x640 10 persons, 116.3ms\n",
            "video 1/1 (frame 24/269) c:\\Users\\Visiteur\\Desktop\\GitHub Projects\\Computer-Vision\\Object Detection\\Data Video\\people walking video.mov: 384x640 7 persons, 132.6ms\n",
            "video 1/1 (frame 14/253) c:\\Users\\Visiteur\\Desktop\\GitHub Projects\\Computer-Vision\\Object Detection\\Data Video\\bicycle video.mov: 384x640 3 persons, 3 bicycles, 154.3ms\n",
            "video 1/1 (frame 25/269) c:\\Users\\Visiteur\\Desktop\\GitHub Projects\\Computer-Vision\\Object Detection\\Data Video\\people walking video.mov: 384x640 7 persons, 113.9ms\n",
            "video 1/1 (frame 26/269) c:\\Users\\Visiteur\\Desktop\\GitHub Projects\\Computer-Vision\\Object Detection\\Data Video\\people walking video.mov: 384x640 6 persons, 1 suitcase, 111.6ms\n",
            "video 1/1 (frame 15/253) c:\\Users\\Visiteur\\Desktop\\GitHub Projects\\Computer-Vision\\Object Detection\\Data Video\\bicycle video.mov: 384x640 3 persons, 3 bicycles, 110.1ms\n",
            "video 1/1 (frame 27/269) c:\\Users\\Visiteur\\Desktop\\GitHub Projects\\Computer-Vision\\Object Detection\\Data Video\\people walking video.mov: 384x640 8 persons, 169.4ms\n",
            "video 1/1 (frame 16/253) c:\\Users\\Visiteur\\Desktop\\GitHub Projects\\Computer-Vision\\Object Detection\\Data Video\\bicycle video.mov: 384x640 3 persons, 3 bicycles, 154.0ms\n",
            "video 1/1 (frame 28/269) c:\\Users\\Visiteur\\Desktop\\GitHub Projects\\Computer-Vision\\Object Detection\\Data Video\\people walking video.mov: 384x640 4 persons, 122.7ms\n",
            "video 1/1 (frame 29/269) c:\\Users\\Visiteur\\Desktop\\GitHub Projects\\Computer-Vision\\Object Detection\\Data Video\\people walking video.mov: 384x640 6 persons, 157.6ms\n",
            "video 1/1 (frame 17/253) c:\\Users\\Visiteur\\Desktop\\GitHub Projects\\Computer-Vision\\Object Detection\\Data Video\\bicycle video.mov: 384x640 3 persons, 3 bicycles, 162.5ms\n",
            "video 1/1 (frame 30/269) c:\\Users\\Visiteur\\Desktop\\GitHub Projects\\Computer-Vision\\Object Detection\\Data Video\\people walking video.mov: 384x640 8 persons, 104.0ms\n",
            "video 1/1 (frame 31/269) c:\\Users\\Visiteur\\Desktop\\GitHub Projects\\Computer-Vision\\Object Detection\\Data Video\\people walking video.mov: 384x640 6 persons, 1 suitcase, 186.7ms\n",
            "video 1/1 (frame 18/253) c:\\Users\\Visiteur\\Desktop\\GitHub Projects\\Computer-Vision\\Object Detection\\Data Video\\bicycle video.mov: 384x640 3 persons, 3 bicycles, 183.9ms\n",
            "video 1/1 (frame 32/269) c:\\Users\\Visiteur\\Desktop\\GitHub Projects\\Computer-Vision\\Object Detection\\Data Video\\people walking video.mov: 384x640 6 persons, 1 suitcase, 128.3ms\n",
            "video 1/1 (frame 33/269) c:\\Users\\Visiteur\\Desktop\\GitHub Projects\\Computer-Vision\\Object Detection\\Data Video\\people walking video.mov: 384x640 6 persons, 1 suitcase, 142.0ms\n",
            "video 1/1 (frame 19/253) c:\\Users\\Visiteur\\Desktop\\GitHub Projects\\Computer-Vision\\Object Detection\\Data Video\\bicycle video.mov: 384x640 3 persons, 3 bicycles, 135.2ms\n",
            "video 1/1 (frame 34/269) c:\\Users\\Visiteur\\Desktop\\GitHub Projects\\Computer-Vision\\Object Detection\\Data Video\\people walking video.mov: 384x640 8 persons, 1 suitcase, 111.7ms\n",
            "video 1/1 (frame 35/269) c:\\Users\\Visiteur\\Desktop\\GitHub Projects\\Computer-Vision\\Object Detection\\Data Video\\people walking video.mov: 384x640 8 persons, 1 suitcase, 181.4ms\n",
            "video 1/1 (frame 20/253) c:\\Users\\Visiteur\\Desktop\\GitHub Projects\\Computer-Vision\\Object Detection\\Data Video\\bicycle video.mov: 384x640 3 persons, 3 bicycles, 265.7ms\n",
            "video 1/1 (frame 36/269) c:\\Users\\Visiteur\\Desktop\\GitHub Projects\\Computer-Vision\\Object Detection\\Data Video\\people walking video.mov: 384x640 6 persons, 1 suitcase, 108.2ms\n",
            "video 1/1 (frame 37/269) c:\\Users\\Visiteur\\Desktop\\GitHub Projects\\Computer-Vision\\Object Detection\\Data Video\\people walking video.mov: 384x640 4 persons, 222.3ms\n",
            "video 1/1 (frame 21/253) c:\\Users\\Visiteur\\Desktop\\GitHub Projects\\Computer-Vision\\Object Detection\\Data Video\\bicycle video.mov: 384x640 3 persons, 3 bicycles, 138.9ms\n",
            "video 1/1 (frame 38/269) c:\\Users\\Visiteur\\Desktop\\GitHub Projects\\Computer-Vision\\Object Detection\\Data Video\\people walking video.mov: 384x640 4 persons, 139.7ms\n",
            "video 1/1 (frame 39/269) c:\\Users\\Visiteur\\Desktop\\GitHub Projects\\Computer-Vision\\Object Detection\\Data Video\\people walking video.mov: 384x640 5 persons, 111.1ms\n",
            "video 1/1 (frame 22/253) c:\\Users\\Visiteur\\Desktop\\GitHub Projects\\Computer-Vision\\Object Detection\\Data Video\\bicycle video.mov: 384x640 3 persons, 3 bicycles, 118.4ms\n",
            "video 1/1 (frame 40/269) c:\\Users\\Visiteur\\Desktop\\GitHub Projects\\Computer-Vision\\Object Detection\\Data Video\\people walking video.mov: 384x640 7 persons, 211.2ms\n",
            "video 1/1 (frame 23/253) c:\\Users\\Visiteur\\Desktop\\GitHub Projects\\Computer-Vision\\Object Detection\\Data Video\\bicycle video.mov: 384x640 3 persons, 3 bicycles, 166.7ms\n",
            "video 1/1 (frame 41/269) c:\\Users\\Visiteur\\Desktop\\GitHub Projects\\Computer-Vision\\Object Detection\\Data Video\\people walking video.mov: 384x640 8 persons, 1 suitcase, 229.6ms\n",
            "video 1/1 (frame 42/269) c:\\Users\\Visiteur\\Desktop\\GitHub Projects\\Computer-Vision\\Object Detection\\Data Video\\people walking video.mov: 384x640 8 persons, 162.0ms\n",
            "video 1/1 (frame 24/253) c:\\Users\\Visiteur\\Desktop\\GitHub Projects\\Computer-Vision\\Object Detection\\Data Video\\bicycle video.mov: 384x640 3 persons, 3 bicycles, 134.6ms\n",
            "video 1/1 (frame 43/269) c:\\Users\\Visiteur\\Desktop\\GitHub Projects\\Computer-Vision\\Object Detection\\Data Video\\people walking video.mov: 384x640 9 persons, 224.0ms\n",
            "video 1/1 (frame 44/269) c:\\Users\\Visiteur\\Desktop\\GitHub Projects\\Computer-Vision\\Object Detection\\Data Video\\people walking video.mov: 384x640 8 persons, 1 suitcase, 177.8ms\n",
            "video 1/1 (frame 25/253) c:\\Users\\Visiteur\\Desktop\\GitHub Projects\\Computer-Vision\\Object Detection\\Data Video\\bicycle video.mov: 384x640 3 persons, 3 bicycles, 163.5ms\n",
            "video 1/1 (frame 45/269) c:\\Users\\Visiteur\\Desktop\\GitHub Projects\\Computer-Vision\\Object Detection\\Data Video\\people walking video.mov: 384x640 7 persons, 1 suitcase, 141.3ms\n",
            "video 1/1 (frame 46/269) c:\\Users\\Visiteur\\Desktop\\GitHub Projects\\Computer-Vision\\Object Detection\\Data Video\\people walking video.mov: 384x640 6 persons, 1 backpack, 1 suitcase, 150.0ms\n",
            "video 1/1 (frame 26/253) c:\\Users\\Visiteur\\Desktop\\GitHub Projects\\Computer-Vision\\Object Detection\\Data Video\\bicycle video.mov: 384x640 3 persons, 3 bicycles, 139.5ms\n",
            "video 1/1 (frame 47/269) c:\\Users\\Visiteur\\Desktop\\GitHub Projects\\Computer-Vision\\Object Detection\\Data Video\\people walking video.mov: 384x640 6 persons, 1 suitcase, 110.3ms\n",
            "video 1/1 (frame 48/269) c:\\Users\\Visiteur\\Desktop\\GitHub Projects\\Computer-Vision\\Object Detection\\Data Video\\people walking video.mov: 384x640 6 persons, 116.9ms\n",
            "video 1/1 (frame 27/253) c:\\Users\\Visiteur\\Desktop\\GitHub Projects\\Computer-Vision\\Object Detection\\Data Video\\bicycle video.mov: 384x640 3 persons, 3 bicycles, 135.1ms\n",
            "video 1/1 (frame 49/269) c:\\Users\\Visiteur\\Desktop\\GitHub Projects\\Computer-Vision\\Object Detection\\Data Video\\people walking video.mov: 384x640 7 persons, 107.5ms\n",
            "video 1/1 (frame 50/269) c:\\Users\\Visiteur\\Desktop\\GitHub Projects\\Computer-Vision\\Object Detection\\Data Video\\people walking video.mov: 384x640 7 persons, 123.2ms\n",
            "video 1/1 (frame 28/253) c:\\Users\\Visiteur\\Desktop\\GitHub Projects\\Computer-Vision\\Object Detection\\Data Video\\bicycle video.mov: 384x640 3 persons, 3 bicycles, 120.8ms\n",
            "video 1/1 (frame 51/269) c:\\Users\\Visiteur\\Desktop\\GitHub Projects\\Computer-Vision\\Object Detection\\Data Video\\people walking video.mov: 384x640 7 persons, 109.9ms\n",
            "video 1/1 (frame 52/269) c:\\Users\\Visiteur\\Desktop\\GitHub Projects\\Computer-Vision\\Object Detection\\Data Video\\people walking video.mov: 384x640 6 persons, 123.7ms\n",
            "video 1/1 (frame 29/253) c:\\Users\\Visiteur\\Desktop\\GitHub Projects\\Computer-Vision\\Object Detection\\Data Video\\bicycle video.mov: 384x640 3 persons, 3 bicycles, 133.4ms\n",
            "video 1/1 (frame 53/269) c:\\Users\\Visiteur\\Desktop\\GitHub Projects\\Computer-Vision\\Object Detection\\Data Video\\people walking video.mov: 384x640 6 persons, 134.6ms\n",
            "video 1/1 (frame 30/253) c:\\Users\\Visiteur\\Desktop\\GitHub Projects\\Computer-Vision\\Object Detection\\Data Video\\bicycle video.mov: 384x640 3 persons, 3 bicycles, 126.5ms\n"
          ]
        }
      ],
      "source": [
        "# **Define a function to achieve the tracking in thread\n",
        "def run_tracker_in_thread(model_name, file_name):\n",
        "    # Run YOLO Tracker in tis own thread for concurrent processing\n",
        "    model = YOLO(model_name)\n",
        "    results = model.track(source = file_name, save = True, stream=True, show=True)\n",
        "    for r in results:\n",
        "        pass\n",
        "\n",
        "# Create ans Start Tracker Threads using a for loop\n",
        "tracker_threads = []\n",
        "for video_file, model_name in zip(SOURCES, MODEL_NAMES):\n",
        "    thread = threading.Thread(target=run_tracker_in_thread, args=(model_name, video_file), daemon=True)\n",
        "    tracker_threads.append(thread)\n",
        "    thread.start()\n",
        "\n",
        "# **Wait for all tracker threads to finish\n",
        "for thread in tracker_threads:\n",
        "    thread.join()\n",
        "\n",
        "# **Clean up and close all windows\n",
        "cv2.destroyAllWindows()"
      ]
    }
  ],
  "metadata": {
    "accelerator": "GPU",
    "colab": {
      "gpuType": "T4",
      "provenance": []
    },
    "kernelspec": {
      "display_name": "venvComputerVision",
      "language": "python",
      "name": "python3"
    },
    "language_info": {
      "codemirror_mode": {
        "name": "ipython",
        "version": 3
      },
      "file_extension": ".py",
      "mimetype": "text/x-python",
      "name": "python",
      "nbconvert_exporter": "python",
      "pygments_lexer": "ipython3",
      "version": "3.11.9"
    }
  },
  "nbformat": 4,
  "nbformat_minor": 0
}
